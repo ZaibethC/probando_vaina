{
 "cells": [
  {
   "cell_type": "markdown",
   "id": "776aadb7",
   "metadata": {},
   "source": [
    "# Problem 2: Bayesian vs. Frequentist\n",
    "\n",
    "_Here, you will explore the difference between a frequentist and a Bayesian approach._\n",
    "\n",
    "You have a measurement station on the roof of the CSU Atmospheric Science building that measures wind\n",
    "direction and the concentration of Nitrogen (C) in the air. You know from many years of measurements\n",
    "that winds from the east (E) flow over the Greeley feedlots and the air that arrives at your instrument has\n",
    "anomalous Nitrogen concentrations that follow a normal distribution with mean μE = 0.2 and σE = 1. On\n",
    "the other hand, winds from the west (W) bring relatively pristine air from the mountains and that air has\n",
    "anomalous Nitrogen concentrations that follow a normal distribution with mean μW = 0.0 and σW = 1.\n",
    "\n",
    "But wait! You have a problem. You just went to check on your instrument, and you found that it is no\n",
    "longer recording the hourly wind direction or the concentrations! Due to glitch in the software, all you know\n",
    "is that the average Nitrogen concentration of the air over the past 100 samples was C100 = 0.13. **Do you\n",
    "think the wind over the last 100 samples was from the east or the west?**"
   ]
  },
  {
   "cell_type": "markdown",
   "id": "87194207",
   "metadata": {},
   "source": [
    "(a) Use hypothesis testing, can you reject the null hypothesis that the air is actually pristine air from the west\n",
    "(H0 : μ = 0)? Use a two-tailed confidence interval of 95%.\n",
    "\n",
    "Setting up the problem: \n",
    "\n",
    "1. Significance level: alpha = 0.05 \n",
    "\n",
    "2. State null hypothesis and the alternative\n",
    "    \n",
    "        H0: wind is air from the west (mu_W = 0)\n",
    "\n",
    "        H1: wind is not air from the west (mu_W =/= 0)\n",
    "\n",
    "3. Statistic to be used: N>30, therefore z-statistics can be used. \n",
    "\n",
    "4. Critical region: z_c = alpha/2\n",
    "\n",
    "5. Evaluate statistic and state the conclusion "
   ]
  },
  {
   "cell_type": "code",
   "execution_count": 1,
   "id": "7ce33706",
   "metadata": {},
   "outputs": [],
   "source": [
    "#.............................................\n",
    "# IMPORT STATEMENTS\n",
    "#.............................................\n",
    "import pandas as pd\n",
    "import numpy as np \n",
    "import matplotlib.pyplot as plt\n",
    "import matplotlib as mpl\n",
    "import scipy.stats as stats\n",
    "import random\n",
    "\n",
    "# set figure defaults\n",
    "mpl.rcParams['figure.dpi'] = 150\n",
    "plt.rcParams['figure.figsize'] = (10.0/2, 7.0/2)"
   ]
  },
  {
   "cell_type": "markdown",
   "id": "9ee5506a",
   "metadata": {},
   "source": [
    "The z-statistics: \n",
    "\n",
    "z = ((x_bar1 - x_bar2)- Delta_1,2)/(sqrt(sigma_1^2/N_1 + sigma_2^2/N_2))\n",
    "\n",
    "Delta_1,2 is the hypothesized difference (usually 0)"
   ]
  },
  {
   "cell_type": "code",
   "execution_count": 8,
   "id": "e0432cb2",
   "metadata": {},
   "outputs": [
    {
     "name": "stdout",
     "output_type": "stream",
     "text": [
      "z_c = 0.025 , z_E = -0.7000000000000001 , z_W = 1.3\n",
      "Since z_W > z_c, we can reject the null hypothesis that the wind came from the West.\n"
     ]
    }
   ],
   "source": [
    "#Constants\n",
    "\n",
    "alpha = 0.05\n",
    "z_c = alpha/2\n",
    "\n",
    "std_E = 1 #Standard deviation from the East \n",
    "std_W = 1 #Standard deviation from the West \n",
    "\n",
    "mu_E = 0.2 #Mean of normal distribution of winds from the East \n",
    "mu_W = 0.0 #Mean of normal distribution of winds from the West \n",
    "\n",
    "C_bar100 = 0.13 #Average Nitrogen concentrations of the air over the past 100 samples **Were these samples from the East or from the West??\n",
    "N = 100\n",
    "\n",
    "z_E = (C_bar100 - mu_E)/(std_E/(np.sqrt(N)))\n",
    "z_W = (C_bar100 - mu_W)/(std_W/(np.sqrt(N)))\n",
    "\n",
    "print(\"z_c =\",z_c,\", z_E =\",z_E,\", z_W =\",z_W)\n",
    "print(\"Since z_W > z_c, we can reject the null hypothesis that the wind came from the West.\")"
   ]
  },
  {
   "cell_type": "markdown",
   "id": "ee0562b6",
   "metadata": {},
   "source": [
    "(b) You start discussing your issue with a graduate student in the department. They don’t know which way\n",
    "the wind was recently blowing, but they do point you toward the Iowa Environmental Mesonet website\n",
    "which provides information about the annual-mean wind directions (see Figure 1). Analyzing the wind rose\n",
    "information, you see that the winds blow out of the west (between SW and NW) 40% of the time and that\n",
    "the winds blow out of the east (between NE and SE) 60% of the time.\n",
    "\n",
    "Let γ denote the fraction of time the air comes from the west (so, γ = 0.4). Use Bayes’ Theorem to compute\n",
    "the probability that the air came from the west over your 100-sample period.\n",
    "\n",
    "**Hint 1:**\n",
    "If the Bayes formulation says the probability that the winds were out of the west is greater than 50%, assume that\n",
    "the winds were out of the west. If the probability is less than 50%, assume the winds were out of the east.\n",
    "\n",
    "**Hint 2:**\n",
    "Although the problem is formulated as Pr(West|C_bar100 = 0.13), we can’t actually test for C_bar100 = 0.13 since the\n",
    "probability of getting any one value is always zero. Thus, we will instead re-formulate the question as follows: what is the probability that the winds were out of the west given a mean Nitrogen concentration of C_bar100 within δ of 0.13? That is, Pr(West|0.13 − δ <= C_bar100 <= 0.13 + δ). For this homework, let δ = 0.01. \n",
    "\n",
    "\n",
    "To Bayes' theorem: \n",
    "\n",
    "1. Define your variables\n",
    "\n",
    "    Pr(W) = 40% = 0.40 #Pr that air came from the West\n",
    "    \n",
    "    Pr(E) = Pr(~W) =  60% = 0.60 #Pr that air did not come from the West \n",
    "    \n",
    "    Pr([N]) = 0.12 #Nitrogen concentration from the west is greater or equal to 0.13  ?????\n",
    "    \n",
    "    Pr(~[N]) = 0.14 #Nitrogen concentration from the west is less or equal to 0.13??????\n",
    "    \n",
    "    \n",
    "2. Clearly state what you want to know\n",
    "3. List all of the information the problem gives you \n",
    "4. Check the assumptions for your method of solving \n",
    "5. Then, solve for what you listed in Step 2\n",
    "\n"
   ]
  },
  {
   "cell_type": "markdown",
   "id": "c8f4f8ef",
   "metadata": {},
   "source": []
  }
 ],
 "metadata": {
  "kernelspec": {
   "display_name": "Python 3",
   "language": "python",
   "name": "python3"
  },
  "language_info": {
   "codemirror_mode": {
    "name": "ipython",
    "version": 3
   },
   "file_extension": ".py",
   "mimetype": "text/x-python",
   "name": "python",
   "nbconvert_exporter": "python",
   "pygments_lexer": "ipython3",
   "version": "3.8.8"
  }
 },
 "nbformat": 4,
 "nbformat_minor": 5
}
